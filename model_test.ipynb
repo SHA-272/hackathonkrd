{
 "cells": [
  {
   "cell_type": "code",
   "execution_count": 4,
   "metadata": {},
   "outputs": [
    {
     "data": {
      "text/plain": [
       "[{'label': 'normal', 'score': 0.9987202882766724},\n",
       " {'label': 'nsfw', 'score': 0.0012796997325494885}]"
      ]
     },
     "execution_count": 4,
     "metadata": {},
     "output_type": "execute_result"
    }
   ],
   "source": [
    "# Use a pipeline as a high-level helper\n",
    "from PIL import Image\n",
    "from transformers import pipeline\n",
    "\n",
    "img = Image.open(\"./nsfw/tt.jpg\")\n",
    "classifier = pipeline(\"image-classification\", model=\"Falconsai/nsfw_image_detection\")\n",
    "classifier(img)"
   ]
  },
  {
   "cell_type": "code",
   "execution_count": 1,
   "metadata": {},
   "outputs": [
    {
     "name": "stderr",
     "output_type": "stream",
     "text": [
      "d:\\Temp\\hackathon_krd\\venv\\lib\\site-packages\\tqdm\\auto.py:21: TqdmWarning: IProgress not found. Please update jupyter and ipywidgets. See https://ipywidgets.readthedocs.io/en/stable/user_install.html\n",
      "  from .autonotebook import tqdm as notebook_tqdm\n",
      "d:\\Temp\\hackathon_krd\\venv\\lib\\site-packages\\huggingface_hub\\file_download.py:1132: FutureWarning: `resume_download` is deprecated and will be removed in version 1.0.0. Downloads always resume when possible. If you want to force a new download, use `force_download=True`.\n",
      "  warnings.warn(\n",
      "d:\\Temp\\hackathon_krd\\venv\\lib\\site-packages\\huggingface_hub\\file_download.py:1132: FutureWarning: `resume_download` is deprecated and will be removed in version 1.0.0. Downloads always resume when possible. If you want to force a new download, use `force_download=True`.\n",
      "  warnings.warn(\n"
     ]
    },
    {
     "data": {
      "text/plain": [
       "'normal'"
      ]
     },
     "execution_count": 1,
     "metadata": {},
     "output_type": "execute_result"
    }
   ],
   "source": [
    "# Load model directly\n",
    "import torch\n",
    "from PIL import Image\n",
    "from transformers import AutoModelForImageClassification, ViTImageProcessor\n",
    "\n",
    "img = Image.open(\"./nsfw/probka.jpg\")\n",
    "model = AutoModelForImageClassification.from_pretrained(\n",
    "    \"Falconsai/nsfw_image_detection\"\n",
    ")\n",
    "processor = ViTImageProcessor.from_pretrained('Falconsai/nsfw_image_detection')\n",
    "with torch.no_grad():\n",
    "    inputs = processor(images=img, return_tensors=\"pt\")\n",
    "    outputs = model(**inputs)\n",
    "    logits = outputs.logits\n",
    "\n",
    "predicted_label = logits.argmax(-1).item()\n",
    "model.config.id2label[predicted_label]"
   ]
  }
 ],
 "metadata": {
  "kernelspec": {
   "display_name": "venv",
   "language": "python",
   "name": "python3"
  },
  "language_info": {
   "codemirror_mode": {
    "name": "ipython",
    "version": 3
   },
   "file_extension": ".py",
   "mimetype": "text/x-python",
   "name": "python",
   "nbconvert_exporter": "python",
   "pygments_lexer": "ipython3",
   "version": "3.10.0"
  }
 },
 "nbformat": 4,
 "nbformat_minor": 2
}
